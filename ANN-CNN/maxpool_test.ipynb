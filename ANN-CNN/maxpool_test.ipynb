{
 "cells": [
  {
   "cell_type": "code",
   "execution_count": 1,
   "metadata": {},
   "outputs": [],
   "source": [
    "import tensorflow as tf\n",
    "from tensorflow.compat.v1.keras.backend import set_session\n",
    "from tensorflow.keras import backend as K\n",
    "\n",
    "import numpy as np\n",
    "from tensorflow import keras\n",
    "from tensorflow.keras import layers"
   ]
  },
  {
   "cell_type": "code",
   "execution_count": 4,
   "metadata": {},
   "outputs": [
    {
     "data": {
      "text/plain": [
       "<tf.Tensor: id=1, shape=(4, 4), dtype=float32, numpy=\n",
       "array([[ 1.,  2.,  3.,  4.],\n",
       "       [ 5.,  6.,  7.,  8.],\n",
       "       [ 9., 10., 11., 12.],\n",
       "       [13., 14., 15., 16.]], dtype=float32)>"
      ]
     },
     "execution_count": 4,
     "metadata": {},
     "output_type": "execute_result"
    }
   ],
   "source": [
    "x = tf.constant([[1., 2., 3., 4.],\n",
    "                 [5., 6., 7., 8.],\n",
    "                 [9., 10., 11., 12.],\n",
    "                 [13., 14., 15., 16.]])\n",
    "x"
   ]
  },
  {
   "cell_type": "code",
   "execution_count": 5,
   "metadata": {},
   "outputs": [
    {
     "data": {
      "text/plain": [
       "<tf.Tensor: id=3, shape=(1, 4, 4, 1), dtype=float32, numpy=\n",
       "array([[[[ 1.],\n",
       "         [ 2.],\n",
       "         [ 3.],\n",
       "         [ 4.]],\n",
       "\n",
       "        [[ 5.],\n",
       "         [ 6.],\n",
       "         [ 7.],\n",
       "         [ 8.]],\n",
       "\n",
       "        [[ 9.],\n",
       "         [10.],\n",
       "         [11.],\n",
       "         [12.]],\n",
       "\n",
       "        [[13.],\n",
       "         [14.],\n",
       "         [15.],\n",
       "         [16.]]]], dtype=float32)>"
      ]
     },
     "execution_count": 5,
     "metadata": {},
     "output_type": "execute_result"
    }
   ],
   "source": [
    "x = tf.reshape(x, [1, 4, 4, 1])\n",
    "x"
   ]
  },
  {
   "cell_type": "code",
   "execution_count": 6,
   "metadata": {},
   "outputs": [
    {
     "data": {
      "text/plain": [
       "<tf.Tensor: id=5, shape=(1, 3, 3, 1), dtype=float32, numpy=\n",
       "array([[[[ 6.],\n",
       "         [ 7.],\n",
       "         [ 8.]],\n",
       "\n",
       "        [[10.],\n",
       "         [11.],\n",
       "         [12.]],\n",
       "\n",
       "        [[14.],\n",
       "         [15.],\n",
       "         [16.]]]], dtype=float32)>"
      ]
     },
     "execution_count": 6,
     "metadata": {},
     "output_type": "execute_result"
    }
   ],
   "source": [
    "max_pool_2d = tf.keras.layers.MaxPooling2D(pool_size=(2, 2), strides=(1, 1), padding='valid')\n",
    "max_pool_2d(x)"
   ]
  },
  {
   "cell_type": "code",
   "execution_count": 7,
   "metadata": {},
   "outputs": [
    {
     "data": {
      "text/plain": [
       "<tf.Tensor: id=6, shape=(1, 2, 2, 1), dtype=float32, numpy=\n",
       "array([[[[ 6.],\n",
       "         [ 8.]],\n",
       "\n",
       "        [[14.],\n",
       "         [16.]]]], dtype=float32)>"
      ]
     },
     "execution_count": 7,
     "metadata": {},
     "output_type": "execute_result"
    }
   ],
   "source": [
    "max_pool_2d = tf.keras.layers.MaxPooling2D(pool_size=(2, 2), strides=(2, 2), padding='valid')\n",
    "max_pool_2d(x)"
   ]
  },
  {
   "cell_type": "code",
   "execution_count": 10,
   "metadata": {},
   "outputs": [
    {
     "data": {
      "text/plain": [
       "<tf.Tensor: id=9, shape=(1, 2, 2, 1), dtype=float32, numpy=\n",
       "array([[[[ 6.],\n",
       "         [ 8.]],\n",
       "\n",
       "        [[14.],\n",
       "         [16.]]]], dtype=float32)>"
      ]
     },
     "execution_count": 10,
     "metadata": {},
     "output_type": "execute_result"
    }
   ],
   "source": [
    "max_pool_2d = tf.keras.layers.MaxPooling2D(pool_size=(2, 2), padding='same')\n",
    "max_pool_2d(x)"
   ]
  },
  {
   "cell_type": "code",
   "execution_count": null,
   "metadata": {},
   "outputs": [],
   "source": []
  }
 ],
 "metadata": {
  "kernelspec": {
   "display_name": "python 3.6.9 ml",
   "language": "python",
   "name": "machine_learning"
  },
  "language_info": {
   "codemirror_mode": {
    "name": "ipython",
    "version": 3
   },
   "file_extension": ".py",
   "mimetype": "text/x-python",
   "name": "python",
   "nbconvert_exporter": "python",
   "pygments_lexer": "ipython3",
   "version": "3.6.9"
  }
 },
 "nbformat": 4,
 "nbformat_minor": 2
}
